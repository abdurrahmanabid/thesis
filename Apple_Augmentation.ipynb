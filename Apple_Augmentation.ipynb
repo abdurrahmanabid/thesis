{
  "nbformat": 4,
  "nbformat_minor": 0,
  "metadata": {
    "colab": {
      "provenance": [],
      "authorship_tag": "ABX9TyNud5GlGGrW77bnLOswSG/W"
    },
    "kernelspec": {
      "name": "python3",
      "display_name": "Python 3"
    },
    "language_info": {
      "name": "python"
    }
  },
  "cells": [
    {
      "cell_type": "code",
      "execution_count": null,
      "metadata": {
        "id": "565qnZfB_cw4"
      },
      "outputs": [],
      "source": [
        "# 📌 Step 1: Mount Google Drive\n",
        "from google.colab import drive\n",
        "drive.mount('/content/drive')\n"
      ]
    },
    {
      "cell_type": "code",
      "source": [
        "# 📌 Step 2: Copy zip from Drive to Colab content\n",
        "!cp \"/content/drive/MyDrive/Research/Dataset/Split/Apple/Apple_Split.zip\" \"/content/Apple_Split.zip\"\n"
      ],
      "metadata": {
        "id": "usOYYWL5_7xS"
      },
      "execution_count": null,
      "outputs": []
    },
    {
      "cell_type": "code",
      "source": [
        "# 📌 Step 3: Extract ZIP in content\n",
        "import zipfile\n",
        "zip_path = \"/content/Apple_Split.zip\"\n",
        "extract_dir = \"/content/Apple_Split\"\n",
        "\n",
        "with zipfile.ZipFile(zip_path, 'r') as zip_ref:\n",
        "    zip_ref.extractall(extract_dir)\n"
      ],
      "metadata": {
        "id": "ME01ksmiARKX"
      },
      "execution_count": 14,
      "outputs": []
    },
    {
      "cell_type": "code",
      "source": [
        "!pip install albumentations --quiet\n"
      ],
      "metadata": {
        "id": "lwEPUh9nAkOy"
      },
      "execution_count": null,
      "outputs": []
    },
    {
      "cell_type": "code",
      "source": [
        "import os\n",
        "import cv2\n",
        "import albumentations as A\n",
        "from tqdm import tqdm\n",
        "import random\n",
        "\n",
        "# ✅ Base directory of your extracted split dataset\n",
        "base_train_dir = '/content/Apple_Split/train'\n",
        "\n",
        "# ✅ Desired target per class\n",
        "TARGET_PER_CLASS = 1500\n",
        "\n",
        "# ✅ Augmentation pipeline\n",
        "augment = A.Compose([\n",
        "    A.HorizontalFlip(p=0.5),\n",
        "    A.VerticalFlip(p=0.5),\n",
        "    A.RandomBrightnessContrast(p=0.3),\n",
        "    A.Rotate(limit=30, p=0.5),\n",
        "    A.RandomShadow(p=0.3),\n",
        "    A.ZoomBlur(p=0.2),\n",
        "    A.ShiftScaleRotate(p=0.3)\n",
        "])\n"
      ],
      "metadata": {
        "colab": {
          "base_uri": "https://localhost:8080/"
        },
        "id": "vjVnyrbZAoyo",
        "outputId": "4bb7f514-12e7-42ff-a7e1-f9b36a2e54d9"
      },
      "execution_count": 15,
      "outputs": [
        {
          "output_type": "stream",
          "name": "stderr",
          "text": [
            "/usr/local/lib/python3.11/dist-packages/albumentations/core/validation.py:114: UserWarning: ShiftScaleRotate is a special case of Affine transform. Please use Affine transform instead.\n",
            "  original_init(self, **validated_kwargs)\n"
          ]
        }
      ]
    },
    {
      "cell_type": "code",
      "source": [
        "# ✅ Apply augmentation only to classes with fewer than target images\n",
        "for class_name in os.listdir(base_train_dir):\n",
        "    class_path = os.path.join(base_train_dir, class_name)\n",
        "    images = os.listdir(class_path)\n",
        "    current_count = len(images)\n",
        "\n",
        "    print(f\"📁 {class_name}: {current_count} images\")\n",
        "\n",
        "    if current_count >= TARGET_PER_CLASS:\n",
        "        continue  # Skip if already enough\n",
        "\n",
        "    to_generate = TARGET_PER_CLASS - current_count\n",
        "    img_paths = [os.path.join(class_path, img) for img in images]\n",
        "\n",
        "    for i in tqdm(range(to_generate), desc=f\"🔄 Augmenting {class_name}\"):\n",
        "        img_path = random.choice(img_paths)\n",
        "        img = cv2.imread(img_path)\n",
        "        img = cv2.cvtColor(img, cv2.COLOR_BGR2RGB)\n",
        "\n",
        "        augmented = augment(image=img)['image']\n",
        "        save_path = os.path.join(class_path, f'aug_{i}_{os.path.basename(img_path)}')\n",
        "        cv2.imwrite(save_path, cv2.cvtColor(augmented, cv2.COLOR_RGB2BGR))\n"
      ],
      "metadata": {
        "colab": {
          "base_uri": "https://localhost:8080/"
        },
        "id": "89kPtTR0A4aS",
        "outputId": "5170e383-50ba-4261-b295-97aaa839d951"
      },
      "execution_count": 16,
      "outputs": [
        {
          "output_type": "stream",
          "name": "stdout",
          "text": [
            "📁 Apple___scab: 855 images\n"
          ]
        },
        {
          "output_type": "stream",
          "name": "stderr",
          "text": [
            "🔄 Augmenting Apple___scab: 100%|██████████| 645/645 [00:01<00:00, 538.17it/s]\n"
          ]
        },
        {
          "output_type": "stream",
          "name": "stdout",
          "text": [
            "📁 Apple___healthy: 1799 images\n",
            "📁 Apple___brown_spot: 150 images\n"
          ]
        },
        {
          "output_type": "stream",
          "name": "stderr",
          "text": [
            "🔄 Augmenting Apple___brown_spot: 100%|██████████| 1350/1350 [00:02<00:00, 530.60it/s]\n"
          ]
        },
        {
          "output_type": "stream",
          "name": "stdout",
          "text": [
            "📁 Apple___alternaria_leaf_spot: 195 images\n"
          ]
        },
        {
          "output_type": "stream",
          "name": "stderr",
          "text": [
            "🔄 Augmenting Apple___alternaria_leaf_spot: 100%|██████████| 1305/1305 [00:02<00:00, 515.25it/s]\n"
          ]
        },
        {
          "output_type": "stream",
          "name": "stdout",
          "text": [
            "📁 Apple___black_rot: 435 images\n"
          ]
        },
        {
          "output_type": "stream",
          "name": "stderr",
          "text": [
            "🔄 Augmenting Apple___black_rot: 100%|██████████| 1065/1065 [00:02<00:00, 507.41it/s]\n"
          ]
        },
        {
          "output_type": "stream",
          "name": "stdout",
          "text": [
            "📁 Apple___rust: 869 images\n"
          ]
        },
        {
          "output_type": "stream",
          "name": "stderr",
          "text": [
            "🔄 Augmenting Apple___rust: 100%|██████████| 631/631 [00:01<00:00, 518.03it/s]\n"
          ]
        },
        {
          "output_type": "stream",
          "name": "stdout",
          "text": [
            "📁 Apple___gray_spot: 276 images\n"
          ]
        },
        {
          "output_type": "stream",
          "name": "stderr",
          "text": [
            "🔄 Augmenting Apple___gray_spot: 100%|██████████| 1224/1224 [00:03<00:00, 398.86it/s]\n"
          ]
        }
      ]
    },
    {
      "cell_type": "code",
      "source": [
        "# !rm -rf /content/Apple_Split"
      ],
      "metadata": {
        "id": "GB77Zi9YFBh1"
      },
      "execution_count": 13,
      "outputs": []
    },
    {
      "cell_type": "code",
      "source": [
        "import shutil\n",
        "# zip\n",
        "shutil.make_archive('/content/apple_augmented', 'zip', '/content/Apple_Split')\n",
        "\n"
      ],
      "metadata": {
        "colab": {
          "base_uri": "https://localhost:8080/",
          "height": 35
        },
        "id": "3OicSZPHGpY8",
        "outputId": "452f4c5d-c338-407f-f3c7-cb577d103120"
      },
      "execution_count": 18,
      "outputs": [
        {
          "output_type": "execute_result",
          "data": {
            "text/plain": [
              "'/content/apple_augmented.zip'"
            ],
            "application/vnd.google.colaboratory.intrinsic+json": {
              "type": "string"
            }
          },
          "metadata": {},
          "execution_count": 18
        }
      ]
    },
    {
      "cell_type": "code",
      "source": [
        "# ✅ গন্তব্য ডিরেক্টরি (Drive-এ যেখানে রাখতে চাও)\n",
        "drive_folder = '/content/drive/MyDrive/Research/Dataset/Augmented/Apple'\n",
        "\n",
        "# গন্তব্য ফোল্ডার যদি না থাকে, তৈরি করো\n",
        "os.makedirs(drive_folder, exist_ok=True)\n",
        "\n",
        "# ✅ কপি করো\n",
        "shutil.copy('/content/apple_augmented.zip', os.path.join(drive_folder, 'Apple_Augmented.zip'))\n",
        "print(f\"✅ Uploaded to Google Drive: {drive_folder}\")"
      ],
      "metadata": {
        "colab": {
          "base_uri": "https://localhost:8080/"
        },
        "id": "dqOQnU1YHYpQ",
        "outputId": "cd6c0c5c-6e41-415e-b518-d6ffba9c1389"
      },
      "execution_count": 19,
      "outputs": [
        {
          "output_type": "stream",
          "name": "stdout",
          "text": [
            "✅ Uploaded to Google Drive: /content/drive/MyDrive/Research/Dataset/Augmented/Apple\n"
          ]
        }
      ]
    }
  ]
}