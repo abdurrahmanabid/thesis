{
  "cells": [
    {
      "cell_type": "markdown",
      "metadata": {
        "id": "view-in-github",
        "colab_type": "text"
      },
      "source": [
        "<a href=\"https://colab.research.google.com/github/abdurrahmanabid/thesis/blob/main/Apple_Split.ipynb\" target=\"_parent\"><img src=\"https://colab.research.google.com/assets/colab-badge.svg\" alt=\"Open In Colab\"/></a>"
      ]
    },
    {
      "cell_type": "code",
      "source": [
        "# 📌 Step 1: Mount Google Drive\n",
        "from google.colab import drive\n",
        "drive.mount('/content/drive')\n"
      ],
      "metadata": {
        "colab": {
          "base_uri": "https://localhost:8080/"
        },
        "id": "Oyu1uzd_3vnu",
        "outputId": "36500415-ead7-4ac7-9fa7-09db526c95f0"
      },
      "execution_count": 1,
      "outputs": [
        {
          "output_type": "stream",
          "name": "stdout",
          "text": [
            "Mounted at /content/drive\n"
          ]
        }
      ]
    },
    {
      "cell_type": "code",
      "source": [
        "# 📌 Step 2: Copy zip from Drive to Colab content\n",
        "!cp \"/content/drive/MyDrive/Research/Dataset/Preproceessed/Apple/Apple_Preprocessed.zip\" \"/content/Apple_Preprocessed.zip\"\n"
      ],
      "metadata": {
        "id": "zWkc4Rmv4Ioi"
      },
      "execution_count": 2,
      "outputs": []
    },
    {
      "cell_type": "code",
      "source": [
        "# 📌 Step 3: Extract ZIP in content\n",
        "import zipfile\n",
        "zip_path = \"/content/Apple_Preprocessed.zip\"\n",
        "extract_dir = \"/content/Apple_Preprocessed\"\n",
        "\n",
        "with zipfile.ZipFile(zip_path, 'r') as zip_ref:\n",
        "    zip_ref.extractall(extract_dir)\n"
      ],
      "metadata": {
        "id": "qw5yeyyp4eD8"
      },
      "execution_count": 4,
      "outputs": []
    },
    {
      "cell_type": "code",
      "source": [
        "# Step 4: Create dataframe from image paths\n",
        "import pandas as pd\n",
        "from glob import glob\n",
        "from sklearn.model_selection import train_test_split\n",
        "import os\n",
        "\n",
        "image_paths = glob(f'{extract_dir}/*/*.jpg')\n",
        "data = pd.DataFrame({\n",
        "    'filepath': image_paths,\n",
        "    'label': [os.path.basename(os.path.dirname(p)) for p in image_paths]\n",
        "})\n",
        "\n",
        "# Stratified Split\n",
        "train_df, temp_df = train_test_split(data, test_size=0.3, stratify=data['label'], random_state=42)\n",
        "val_df, test_df = train_test_split(temp_df, test_size=0.5, stratify=temp_df['label'], random_state=42)\n"
      ],
      "metadata": {
        "id": "15COIT2s4yxS"
      },
      "execution_count": 5,
      "outputs": []
    },
    {
      "cell_type": "code",
      "source": [
        "# Step 5: Copy images to split folders\n",
        "import shutil\n",
        "from tqdm import tqdm\n",
        "\n",
        "def copy_images(df, split_name, base_dir='/content/apple_split'):\n",
        "    for _, row in tqdm(df.iterrows(), total=len(df)):\n",
        "        class_dir = os.path.join(base_dir, split_name, row['label'])\n",
        "        os.makedirs(class_dir, exist_ok=True)\n",
        "        shutil.copy(row['filepath'], class_dir)\n",
        "\n",
        "copy_images(train_df, 'train')\n",
        "copy_images(val_df, 'val')\n",
        "copy_images(test_df, 'test')\n"
      ],
      "metadata": {
        "colab": {
          "base_uri": "https://localhost:8080/"
        },
        "id": "gDFcgOkw48it",
        "outputId": "815ff771-2dba-4022-80ea-4cf35cec935e"
      },
      "execution_count": 6,
      "outputs": [
        {
          "output_type": "stream",
          "name": "stderr",
          "text": [
            "100%|██████████| 4579/4579 [00:01<00:00, 2625.00it/s]\n",
            "100%|██████████| 981/981 [00:00<00:00, 2316.26it/s]\n",
            "100%|██████████| 982/982 [00:00<00:00, 2458.97it/s]\n"
          ]
        }
      ]
    },
    {
      "cell_type": "code",
      "source": [
        "# Zip it for future use\n",
        "shutil.make_archive('/content/apple_split_final', 'zip', '/content/apple_split')\n"
      ],
      "metadata": {
        "colab": {
          "base_uri": "https://localhost:8080/"
        },
        "id": "mP2kWEH86HD6",
        "outputId": "c0d0fd6f-33b9-43b1-ff8a-0f15147583f5"
      },
      "execution_count": 7,
      "outputs": [
        {
          "output_type": "stream",
          "name": "stdout",
          "text": [
            "cp: cannot create regular file '/content/drive/MyDrive/Research/Dataset/Split/Apple': No such file or directory\n"
          ]
        }
      ]
    },
    {
      "cell_type": "code",
      "source": [
        "# ✅ গন্তব্য ডিরেক্টরি (Drive-এ যেখানে রাখতে চাও)\n",
        "drive_folder = '/content/drive/MyDrive/Research/Dataset/Split/Apple'\n",
        "\n",
        "# গন্তব্য ফোল্ডার যদি না থাকে, তৈরি করো\n",
        "os.makedirs(drive_folder, exist_ok=True)\n",
        "\n",
        "# ✅ কপি করো\n",
        "shutil.copy('/content/apple_split_final.zip', os.path.join(drive_folder, 'Apple_Split.zip'))\n",
        "print(f\"✅ Uploaded to Google Drive: {drive_folder}\")"
      ],
      "metadata": {
        "colab": {
          "base_uri": "https://localhost:8080/"
        },
        "id": "w3U6-ZB18CZb",
        "outputId": "c037cbc5-21b1-4654-d33c-c78e8dd27d93"
      },
      "execution_count": 8,
      "outputs": [
        {
          "output_type": "stream",
          "name": "stdout",
          "text": [
            "✅ Uploaded to Google Drive: /content/drive/MyDrive/Research/Dataset/Split/Apple\n"
          ]
        }
      ]
    }
  ],
  "metadata": {
    "accelerator": "GPU",
    "colab": {
      "gpuType": "T4",
      "provenance": [],
      "authorship_tag": "ABX9TyPdqvxzL3miOhfoiAmvO4LS",
      "include_colab_link": true
    },
    "kernelspec": {
      "display_name": "Python 3",
      "name": "python3"
    },
    "language_info": {
      "name": "python"
    }
  },
  "nbformat": 4,
  "nbformat_minor": 0
}