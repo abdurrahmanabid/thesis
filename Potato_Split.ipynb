{
  "cells": [
    {
      "cell_type": "markdown",
      "metadata": {
        "id": "view-in-github",
        "colab_type": "text"
      },
      "source": [
        "<a href=\"https://colab.research.google.com/github/abdurrahmanabid/thesis/blob/main/Potato_Split.ipynb\" target=\"_parent\"><img src=\"https://colab.research.google.com/assets/colab-badge.svg\" alt=\"Open In Colab\"/></a>"
      ]
    },
    {
      "cell_type": "code",
      "source": [
        "# 📌 Step 1: Mount Google Drive\n",
        "from google.colab import drive\n",
        "drive.mount('/content/drive')\n"
      ],
      "metadata": {
        "colab": {
          "base_uri": "https://localhost:8080/"
        },
        "id": "Oyu1uzd_3vnu",
        "outputId": "d1baa348-5ee9-44bb-9265-9e008add57b0"
      },
      "execution_count": 1,
      "outputs": [
        {
          "output_type": "stream",
          "name": "stdout",
          "text": [
            "Mounted at /content/drive\n"
          ]
        }
      ]
    },
    {
      "cell_type": "code",
      "source": [
        "# 📌 Step 2: Copy zip from Drive to Colab content\n",
        "!cp \"/content/drive/MyDrive/Research/Dataset/Preproceessed/Potato/Potato_Preprocessed.zip\" \"/content/Potato_Preprocessed.zip\"\n"
      ],
      "metadata": {
        "id": "zWkc4Rmv4Ioi"
      },
      "execution_count": 2,
      "outputs": []
    },
    {
      "cell_type": "code",
      "source": [
        "# 📌 Step 3: Extract ZIP in content\n",
        "import zipfile\n",
        "zip_path = \"/content/Potato_Preprocessed.zip\"\n",
        "extract_dir = \"/content/Potato_Preprocessed\"\n",
        "\n",
        "with zipfile.ZipFile(zip_path, 'r') as zip_ref:\n",
        "    zip_ref.extractall(extract_dir)\n"
      ],
      "metadata": {
        "id": "qw5yeyyp4eD8"
      },
      "execution_count": 3,
      "outputs": []
    },
    {
      "cell_type": "code",
      "source": [
        "# Step 4: Create dataframe from image paths\n",
        "import pandas as pd\n",
        "from glob import glob\n",
        "from sklearn.model_selection import train_test_split\n",
        "import os\n",
        "\n",
        "image_paths = glob(f'{extract_dir}/*/*.jpg')\n",
        "data = pd.DataFrame({\n",
        "    'filepath': image_paths,\n",
        "    'label': [os.path.basename(os.path.dirname(p)) for p in image_paths]\n",
        "})\n",
        "\n",
        "# Stratified Split\n",
        "train_df, temp_df = train_test_split(data, test_size=0.3, stratify=data['label'], random_state=42)\n",
        "val_df, test_df = train_test_split(temp_df, test_size=0.5, stratify=temp_df['label'], random_state=42)\n"
      ],
      "metadata": {
        "id": "15COIT2s4yxS"
      },
      "execution_count": 4,
      "outputs": []
    },
    {
      "cell_type": "code",
      "source": [
        "# Step 5: Copy images to split folders\n",
        "import shutil\n",
        "from tqdm import tqdm\n",
        "\n",
        "def copy_images(df, split_name, base_dir='/content/potato_split'):\n",
        "    for _, row in tqdm(df.iterrows(), total=len(df)):\n",
        "        class_dir = os.path.join(base_dir, split_name, row['label'])\n",
        "        os.makedirs(class_dir, exist_ok=True)\n",
        "        shutil.copy(row['filepath'], class_dir)\n",
        "\n",
        "copy_images(train_df, 'train')\n",
        "copy_images(val_df, 'val')\n",
        "copy_images(test_df, 'test')\n"
      ],
      "metadata": {
        "colab": {
          "base_uri": "https://localhost:8080/"
        },
        "id": "gDFcgOkw48it",
        "outputId": "f51d6376-a612-4b2d-d6c8-fac6a3a1784f"
      },
      "execution_count": 5,
      "outputs": [
        {
          "output_type": "stream",
          "name": "stderr",
          "text": [
            "100%|██████████| 6844/6844 [00:02<00:00, 2511.74it/s]\n",
            "100%|██████████| 1467/1467 [00:00<00:00, 3708.78it/s]\n",
            "100%|██████████| 1467/1467 [00:00<00:00, 2914.41it/s]\n"
          ]
        }
      ]
    },
    {
      "cell_type": "code",
      "source": [
        "# Zip it for future use\n",
        "shutil.make_archive('/content/potato_split_final', 'zip', '/content/potato_split')\n"
      ],
      "metadata": {
        "colab": {
          "base_uri": "https://localhost:8080/",
          "height": 36
        },
        "id": "mP2kWEH86HD6",
        "outputId": "24847816-b28b-4119-b1be-abc74be28ca9"
      },
      "execution_count": 6,
      "outputs": [
        {
          "output_type": "execute_result",
          "data": {
            "text/plain": [
              "'/content/potato_split_final.zip'"
            ],
            "application/vnd.google.colaboratory.intrinsic+json": {
              "type": "string"
            }
          },
          "metadata": {},
          "execution_count": 6
        }
      ]
    },
    {
      "cell_type": "code",
      "source": [
        "# ✅ গন্তব্য ডিরেক্টরি (Drive-এ যেখানে রাখতে চাও)\n",
        "drive_folder = '/content/drive/MyDrive/Research/Split/Potato'\n",
        "\n",
        "# গন্তব্য ফোল্ডার যদি না থাকে, তৈরি করো\n",
        "os.makedirs(drive_folder, exist_ok=True)\n",
        "\n",
        "# ✅ কপি করো\n",
        "shutil.copy('/content/potato_split_final.zip', os.path.join(drive_folder, 'Potato_Split.zip'))\n",
        "print(f\"✅ Uploaded to Google Drive: {drive_folder}\")"
      ],
      "metadata": {
        "colab": {
          "base_uri": "https://localhost:8080/"
        },
        "id": "w3U6-ZB18CZb",
        "outputId": "49e2a41e-1b17-4c0b-d94d-2a2c840cccca"
      },
      "execution_count": 7,
      "outputs": [
        {
          "output_type": "stream",
          "name": "stdout",
          "text": [
            "✅ Uploaded to Google Drive: /content/drive/MyDrive/Research/Split/Potato\n"
          ]
        }
      ]
    }
  ],
  "metadata": {
    "accelerator": "GPU",
    "colab": {
      "gpuType": "T4",
      "provenance": [],
      "authorship_tag": "ABX9TyOIo/F39+fM1VSY9qae6lbg",
      "include_colab_link": true
    },
    "kernelspec": {
      "display_name": "Python 3",
      "name": "python3"
    },
    "language_info": {
      "name": "python"
    }
  },
  "nbformat": 4,
  "nbformat_minor": 0
}